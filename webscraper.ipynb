{
 "cells": [
  {
   "cell_type": "code",
   "execution_count": 56,
   "metadata": {
    "collapsed": true
   },
   "outputs": [],
   "source": [
    "from bs4 import BeautifulSoup\n",
    "from selenium import webdriver\n",
    "from selenium.webdriver.support.ui import Select\n",
    "from selenium.common.exceptions import NoSuchElementException\n",
    "from selenium.webdriver.common.by import By\n",
    "import time\n",
    "from datetime import datetime\n",
    "import requests\n",
    "import psycopg2\n",
    "import config"
   ]
  },
  {
   "cell_type": "code",
   "execution_count": 83,
   "metadata": {},
   "outputs": [],
   "source": [
    "#opening up browser\n",
    "headers = {'User-Agent': 'Chrome/65.0'}\n",
    "driver = driver = webdriver.Chrome()"
   ]
  },
  {
   "cell_type": "code",
   "execution_count": 39,
   "metadata": {
    "collapsed": true
   },
   "outputs": [],
   "source": [
    "def template():\n",
    "    #opening up york website\n",
    "    driver.get('https://w2prod.sis.yorku.ca/Apps/WebObjects/cdm')\n",
    "\n",
    "    #attempting to click on \"Advanced Search\" to search courses by on the york website\n",
    "    try:\n",
    "        elem = driver.find_element_by_xpath('/html/body/p/table/tbody/tr[2]/td[2]/table/tbody/tr[2]/td/table/tbody/tr/td/ul/li[1]/ul/li[9]/a');\n",
    "        if elem.is_displayed():\n",
    "            elem.click() # this will click the element if it is there\n",
    "    except NoSuchElementException:\n",
    "        print(\"...\")\n",
    "        advanced_search = driver.find_element_by_xpath('/html/body/p/table/tbody/tr[2]/td[2]/table/tbody/tr[2]/td/table/tbody/tr/td/ul/li[1]/ul/li[9]/a').click();\n",
    "\n",
    "    #choosing Schulich as the faculty\n",
    "    faculty = Select(driver.find_element_by_name('facultyPopup'));\n",
    "    faculty.select_by_visible_text(\"Schulich School of Business - (SB)\");\n",
    "\n",
    "    #pausing for 1 second to allow for update of subjects\n",
    "    time.sleep(1)\n",
    "\n",
    "    #choosing the current academic year as the session\n",
    "    session = Select(driver.find_element_by_name('sessionPopup'));\n",
    "    session.select_by_visible_text(\"Fall/Winter 2019-2020\")\n",
    "\n",
    "course_data_arr = []"
   ]
  },
  {
   "cell_type": "code",
   "execution_count": 40,
   "metadata": {
    "collapsed": true
   },
   "outputs": [],
   "source": [
    "def preselect():\n",
    "    #going to advanced search url\n",
    "    driver.get(search_url)\n",
    "\n",
    "    #choosing Schulich as the faculty\n",
    "    faculty = Select(driver.find_element_by_name('facultyPopup'));\n",
    "    faculty.select_by_visible_text(\"Schulich School of Business - (SB)\");\n",
    "\n",
    "    #pausing for 1 second to allow for update of subjects\n",
    "    time.sleep(1)\n",
    "\n",
    "    #choosing the current academic year as the session\n",
    "    session = Select(driver.find_element_by_name('sessionPopup'));\n",
    "    session.select_by_visible_text(\"Fall/Winter 2019-2020\")"
   ]
  },
  {
   "cell_type": "code",
   "execution_count": 41,
   "metadata": {
    "collapsed": true
   },
   "outputs": [],
   "source": [
    "def get_course_info():\n",
    "    url = driver.current_url\n",
    "    response = requests.get(url, headers = headers)\n",
    "    soup = BeautifulSoup(response.content, 'html.parser')\n",
    "    course = soup.find_all('p')\n",
    "    course_code = course[0].text[3:][:9]\n",
    "    course_cat = course[0].text[3:][:4]\n",
    "    course_num = int(course[0].text[8:][:4])\n",
    "    course_name = course[0].text[22:]\n",
    "    course_desc = course[3].text\n",
    "    results = soup.findAll(\"td\", {\"valign\": \"TOP\",\"width\" : \"15%\"})[1::2]\n",
    "    list_instruct = [x.text.replace('\\xa0',' ') for x in results]\n",
    "    list_instruct = filter(lambda name: name.strip(), list_instruct)\n",
    "    final = list(set(list_instruct))\n",
    "    time_created = datetime.now().strftime('%B, %d, %Y %I:%M %p')\n",
    "    course_data = (course_code, course_cat, course_num, course_name, course_desc, final, time_created)\n",
    "    if course_cat == \"EXCH\":\n",
    "        pass\n",
    "    else:\n",
    "        course_data_arr.append(course_data)"
   ]
  },
  {
   "cell_type": "code",
   "execution_count": 42,
   "metadata": {},
   "outputs": [],
   "source": [
    "template()\n",
    "subject = Select(driver.find_element_by_name('subjectPopup'));\n",
    "\n",
    "sub_len = len(subject.options) - 1\n"
   ]
  },
  {
   "cell_type": "code",
   "execution_count": 43,
   "metadata": {},
   "outputs": [],
   "source": [
    "x = 0\n",
    "while x < sub_len:\n",
    "    subject.select_by_index(x)\n",
    "    driver.find_element_by_name('3.10.8.11.0').click()\n",
    "    link_click = driver.find_elements_by_link_text('Fall/Winter 2019-2020 Course Schedule')\n",
    "    i = 0\n",
    "    my_list = []\n",
    "    for pages in link_click:\n",
    "        course_url = link_click[i].get_attribute(\"href\")\n",
    "        my_list.append(course_url)\n",
    "        i += 1\n",
    "    z = 0\n",
    "    while z < len(my_list):\n",
    "        driver.get(my_list[z])\n",
    "        get_course_info()\n",
    "        z += 1\n",
    "\n",
    "    template()\n",
    "\n",
    "    subject = Select(driver.find_element_by_name('subjectPopup'));\n",
    "\n",
    "    x += 1"
   ]
  },
  {
   "cell_type": "code",
   "execution_count": 44,
   "metadata": {
    "collapsed": true
   },
   "outputs": [],
   "source": [
    "#connecting and inserting into database\n",
    "conn = psycopg2.connect(host=\"localhost\",database=\"schulichgo_dev\", user=\"syed\", password=\"iveyhba2020\")\n",
    "cursor = conn.cursor()\n",
    "conn.rollback()\n",
    "inserting = (\"INSERT INTO courses_course (code, category, number, title, description, instructors, updated_at) VALUES (%s, %s, %s, %s, %s, %s, %s)\")\n",
    "cursor.executemany(inserting, course_data_arr)\n",
    "conn.commit()\n",
    "conn.close()"
   ]
  },
  {
   "cell_type": "code",
   "execution_count": 98,
   "metadata": {},
   "outputs": [],
   "source": [
    "# getting the list of course categories\n",
    "template()\n",
    "subject = Select(driver.find_element_by_name('subjectPopup'));\n",
    "category_arr = []"
   ]
  },
  {
   "cell_type": "code",
   "execution_count": 99,
   "metadata": {},
   "outputs": [],
   "source": [
    "x = 0\n",
    "while x < sub_len:\n",
    "    selected = subject.select_by_index(x)\n",
    "    subject_category = subject.first_selected_option\n",
    "    category = subject_category.text[-4:]\n",
    "    category_title = subject_category.text[:-7]\n",
    "    \n",
    "    category_model = (category, category_title)\n",
    "    category_arr.append(category_model)\n",
    "    \n",
    "    x += 1"
   ]
  },
  {
   "cell_type": "code",
   "execution_count": 100,
   "metadata": {
    "collapsed": true
   },
   "outputs": [],
   "source": [
    "#connecting and inserting into database\n",
    "conn = psycopg2.connect(host=\"localhost\",database=\"schulichgo_dev\", user=\"syed\", password=\"iveyhba2020\")\n",
    "cursor = conn.cursor()\n",
    "conn.rollback()\n",
    "inserting = (\"INSERT INTO courses_category (category, category_title) VALUES (%s, %s)\")\n",
    "cursor.executemany(inserting, category_arr)\n",
    "conn.commit()\n",
    "conn.close()"
   ]
  },
  {
   "cell_type": "code",
   "execution_count": null,
   "metadata": {
    "collapsed": true
   },
   "outputs": [],
   "source": []
  }
 ],
 "metadata": {
  "kernelspec": {
   "display_name": "Python 3",
   "language": "python",
   "name": "python3"
  },
  "language_info": {
   "codemirror_mode": {
    "name": "ipython",
    "version": 3
   },
   "file_extension": ".py",
   "mimetype": "text/x-python",
   "name": "python",
   "nbconvert_exporter": "python",
   "pygments_lexer": "ipython3",
   "version": "3.6.8"
  }
 },
 "nbformat": 4,
 "nbformat_minor": 2
}
